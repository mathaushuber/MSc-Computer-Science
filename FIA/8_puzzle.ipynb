{
  "nbformat": 4,
  "nbformat_minor": 0,
  "metadata": {
    "colab": {
      "provenance": [],
      "authorship_tag": "ABX9TyOZiC7jLxZvOAj2cl9GQect",
      "include_colab_link": true
    },
    "kernelspec": {
      "name": "python3",
      "display_name": "Python 3"
    },
    "language_info": {
      "name": "python"
    }
  },
  "cells": [
    {
      "cell_type": "markdown",
      "metadata": {
        "id": "view-in-github",
        "colab_type": "text"
      },
      "source": [
        "<a href=\"https://colab.research.google.com/github/mathaushuber/MSc-Computer-Science/blob/main/8_puzzle.ipynb\" target=\"_parent\"><img src=\"https://colab.research.google.com/assets/colab-badge.svg\" alt=\"Open In Colab\"/></a>"
      ]
    },
    {
      "cell_type": "code",
      "source": [
        "from copy import deepcopy\n",
        "import numpy as np\n",
        "from itertools import combinations\n",
        "from IPython.display import Image\n",
        "import pprint"
      ],
      "metadata": {
        "id": "NhD6DtPgzqre"
      },
      "execution_count": 27,
      "outputs": []
    },
    {
      "cell_type": "code",
      "execution_count": 3,
      "metadata": {
        "colab": {
          "base_uri": "https://localhost:8080/",
          "height": 466
        },
        "id": "WfZDRQpbzf0x",
        "outputId": "0169ff80-105f-4a73-aba6-8e2d46a63fe4"
      },
      "outputs": [
        {
          "output_type": "execute_result",
          "data": {
            "text/html": [
              "<img src=\"https://lh7-us.googleusercontent.com/EMbfMxUTGze7-3Nn5YrVqosIO041Le7DOS4qAiCrDPcSyLqhjIq0FjlRvuxlyNhGTvvtpmDnF6SY-yPEjfCZlsKREXabRw3AUWJaRMk6joiqYwRBDlitlLvtP5aE0wfrXL-dl9X7xW3uaFkWr5S2ji8\" width=\"300\"/>"
            ],
            "text/plain": [
              "<IPython.core.display.Image object>"
            ]
          },
          "metadata": {},
          "execution_count": 3
        }
      ],
      "source": [
        "Image(url='https://lh7-us.googleusercontent.com/EMbfMxUTGze7-3Nn5YrVqosIO041Le7DOS4qAiCrDPcSyLqhjIq0FjlRvuxlyNhGTvvtpmDnF6SY-yPEjfCZlsKREXabRw3AUWJaRMk6joiqYwRBDlitlLvtP5aE0wfrXL-dl9X7xW3uaFkWr5S2ji8',width=300)"
      ]
    },
    {
      "cell_type": "code",
      "source": [
        "class Estado:\n",
        "    def __init__(self, array):\n",
        "        self.array = np.array(array)\n",
        "\n",
        "    def __repr__(self):\n",
        "        return str(self.array[0]) + '\\n' + str(self.array[1]) + '\\n' + str(self.array[2]) + '\\n'\n",
        "\n",
        "    def __eq__(self, other):\n",
        "        return (self.array == other.array).all()\n",
        "\n",
        "\n",
        "class FilaPrioridade:\n",
        "    def __init__(self):\n",
        "        self.list = []\n",
        "\n",
        "    def put(self, item, priority):\n",
        "        self.list.append((priority, item))\n",
        "        self.list.sort(key=lambda x: x[0])\n",
        "\n",
        "    def get(self):\n",
        "        return self.list.pop(0)[1]\n",
        "\n",
        "    def EspacoVazio(self):\n",
        "        return len(self.list) == 0\n",
        "\n",
        "class No:\n",
        "    def __init__(self, estadoInicial):\n",
        "        self.estado = estadoInicial\n",
        "        self.pos = self.getPos()\n",
        "        self.caminho = [estadoInicial]\n",
        "\n",
        "    def AlcancaNovoEstado(self, novoEstado):\n",
        "        novoNo = deepcopy(self)\n",
        "        novoNo.estado = novoEstado\n",
        "        novoNo.pos = novoNo.getPos()\n",
        "        novoNo.caminho.append(novoEstado)\n",
        "\n",
        "        return novoNo\n",
        "\n",
        "    def getPos(self):\n",
        "        for i in range(3):\n",
        "            for j in range(3):\n",
        "                if self.estado.array[i][j] == 0:\n",
        "                    return i, j\n",
        "\n",
        "def VerificaPosicao(no, estadoParada):\n",
        "    return no.estado == estadoParada"
      ],
      "metadata": {
        "id": "KVj3oGUwz3Va"
      },
      "execution_count": 4,
      "outputs": []
    },
    {
      "cell_type": "code",
      "source": [
        "posicaoFinal = Estado([[1,2,3], [4,5,6], [7,8,0]])\n",
        "posicaoInicial = Estado([[5, 2, 6], [1, 0, 3], [4, 7, 8]])\n",
        "print(\"Posição inicial:\\n\" + str(posicaoInicial))\n",
        "print(\"Posição final:\\n\" + str(posicaoFinal))"
      ],
      "metadata": {
        "colab": {
          "base_uri": "https://localhost:8080/"
        },
        "id": "um81nqjTz6nI",
        "outputId": "5bbab7ce-8708-410b-d80b-bb9b21d1dde0"
      },
      "execution_count": 5,
      "outputs": [
        {
          "output_type": "stream",
          "name": "stdout",
          "text": [
            "Posição inicial:\n",
            "[5 2 6]\n",
            "[1 0 3]\n",
            "[4 7 8]\n",
            "\n",
            "Posição final:\n",
            "[1 2 3]\n",
            "[4 5 6]\n",
            "[7 8 0]\n",
            "\n"
          ]
        }
      ]
    },
    {
      "cell_type": "markdown",
      "source": [
        "\n",
        "O contador é incrementado a cada iteração. Se a fronteira estiver vazia, a função retorna False, indicando que não há solução. O nó na frente da fila é removido e depois processado. Se a posição atual do nó for a posição final, a função imprime o número de movimentos e retorna o caminho até a solução.\n",
        "\n",
        "Para cada possível movimento (cima, baixo, esquerda, direita), é verificado se o movimento é válido. Movimentos são considerados válidos se resultam em posições dentro dos limites do tabuleiro (3x3). Se o movimento é válido, um novo estado é gerado copiando o estado atual e trocando a posição do zero com a nova posição. Um novo nó é criado a partir do novo estado. Se o novo estado não está no caminho atual (evitando ciclos), ele é adicionado à fronteira.\n",
        "\n",
        "A busca em largura explora todos os nós no nível atual antes de explorar os nós no próximo nível. Funciona como uma fila, onde os nós são adicionados ao final da fila e removidos do início.\n",
        "\n",
        "**Vantagens:**\n",
        "\n",
        "\n",
        "*   Completa: Sempre encontra uma solução se uma solução existir.\n",
        "*   Ótima: Encontra a solução com o menor número de movimentos.\n",
        "\n",
        "\n",
        "**Desvantagens:**\n",
        "\n",
        "\n",
        "*   Consumo de Memória: Pode consumir muita memória, especialmente para problemas grandes, pois precisa armazenar todos os nós no nível atual antes de passar para o próximo.\n",
        "*   Lentidão: Pode ser lenta se a solução estiver longe do nó inicial, pois explora todos os nós em cada nível antes de ir para o próximo nível.\n",
        "\n"
      ],
      "metadata": {
        "id": "fPuyQVxqugAG"
      }
    },
    {
      "cell_type": "code",
      "source": [
        "def BuscaLargura(estadoInicial, estadoParada):\n",
        "    no = No(estadoInicial)\n",
        "    frg = [no]\n",
        "    cnt = 0\n",
        "    while True:\n",
        "        cnt += 1\n",
        "\n",
        "        if frg == []:\n",
        "            return False\n",
        "        no = frg.pop(0)\n",
        "        #Se a posição do quebra cabeça for a posição desejada paramos o laço\n",
        "        if VerificaPosicao(no, estadoParada):\n",
        "            print(\"Solução encontrada em {} movimentos\".format(len(no.caminho) -1))\n",
        "            return no.caminho\n",
        "\n",
        "        x, y = no.pos\n",
        "        #A lógica da implementação para validação de um movimento é baseada em um laço\n",
        "        #duplo de repetição. A primeira variável i representa a linha e j representa as colunas para aquela\n",
        "        #linha. A validação do movimento é feita através da identificação da posição do número 0.\n",
        "        #Uma vez encontrado adiciona-se e subtrai-se 1 no valor da linha para testar se é possível\n",
        "        #movimentar para cima e para baixo. O mesmo teste é realizado para a coluna, porém nesse\n",
        "        #caso é testado a possibilidade de mover-se para direita e esquerda. O movimento é valido se o\n",
        "        #valor adicionado for menor que 3 ou se o valor subtraído for no mínimo 0.\n",
        "        for i, j in [(-1, 0), (1, 0), (0, -1), (0, 1)]:\n",
        "            if i+x < 0 or i+x >= 3 or j+y < 0 or j+y >= 3:\n",
        "                continue\n",
        "            novoEstado = deepcopy(no.estado)\n",
        "            novoEstado.array[x+i][y+j], novoEstado.array[x][y] = novoEstado.array[x][y], novoEstado.array[x+i][y+j]\n",
        "            novoNo = no.AlcancaNovoEstado(novoEstado)\n",
        "            if novoNo.estado in no.caminho:\n",
        "                continue\n",
        "            frg.append(novoNo)"
      ],
      "metadata": {
        "id": "PN7noAp10Go1"
      },
      "execution_count": 21,
      "outputs": []
    },
    {
      "cell_type": "markdown",
      "source": [
        "A busca em profundidade é uma técnica de busca que explora o caminho mais profundo possível a partir do nó inicial antes de retroceder. Funciona como uma pilha, onde os nós são adicionados ao início da lista e removidos do início da lista.\n",
        "\n",
        "Tem a vantagem de usar menos memória do que a busca em largura, pois não precisa armazenar todos os nós no nível atual. Além disso, pode ser mais eficiente em encontrar soluções profundas em grafos grandes ou quando a solução está mais próxima das folhas. Por outro lado, pode não encontrar uma solução mesmo que uma exista, especialmente se o grafo tiver ciclos, pois pode entrar em loops infinitos. Além disso, não garante encontrar a solução mais curta; pode encontrar uma solução que não seja a ideal em termos de número de movimentos. Nessa abordagem \"original\" onde não tem mecanismos para detectar nós já visitados, ela pode explorar repetidamente os mesmos nós, e isso aumenta o tempo de execução."
      ],
      "metadata": {
        "id": "s-gmuW61u-lq"
      }
    },
    {
      "cell_type": "code",
      "source": [
        "def BuscaProfundidade(estadoInicial, estadoParada):\n",
        "    no = No(estadoInicial)\n",
        "    frg = [no]\n",
        "    cnt = 0\n",
        "    while True:\n",
        "        cnt += 1\n",
        "\n",
        "        if frg == []:\n",
        "            return False\n",
        "        no = frg.pop(0)\n",
        "        if VerificaPosicao(no, estadoParada):\n",
        "            print(\"Solução encontrada em {} movimentos\".format(cnt))\n",
        "            return no.caminho\n",
        "        x, y = no.pos\n",
        "        #Mesma lógica\n",
        "        for i, j in [(-1, 0), (1, 0), (0, -1), (0, 1)]:\n",
        "            if i+x < 0 or i+x >= 3 or j+y < 0 or j+y >= 3:\n",
        "                continue\n",
        "            novoEstado = deepcopy(no.estado)\n",
        "            novoEstado.array[x+i][y+j], novoEstado.array[x][y] = novoEstado.array[x][y], novoEstado.array[x+i][y+j] #troca\n",
        "            novoNo = no.AlcancaNovoEstado(novoEstado)\n",
        "            if novoNo.estado in no.caminho:\n",
        "                continue\n",
        "            frg.insert(0, novoNo)"
      ],
      "metadata": {
        "id": "cZRj6ib80M4F"
      },
      "execution_count": 7,
      "outputs": []
    },
    {
      "cell_type": "markdown",
      "source": [
        "A busca por profundidade limitada (DLS) é uma técnica de busca em grafos que explora até uma certa profundidade antes de retroceder, prevenindo a exploração excessiva de caminhos profundos.\n",
        "\n",
        "A principal vantagem da busca por profundidade limitada é o controle de profundidade, que evita a exploração excessiva de caminhos, o que é particularmente útil em grafos grandes ou com ciclos. Além disso, ela consome menos memória em comparação com a busca em largura, pois não precisa armazenar todos os nós no nível atual.\n",
        "\n",
        "Entretanto, a busca por profundidade limitada tem desvantagens. Ela não é completa, pois pode não encontrar uma solução se o limite de profundidade for insuficiente. Também não é ótima, já que pode não encontrar a solução mais curta devido à limitação da profundidade de exploração.\n",
        "\n",
        "Em relação à busca por profundidade normal, a busca por profundidade limitada difere principalmente pelo controle de profundidade. Enquanto a busca por profundidade normal pode explorar caminhos indefinidamente, potencialmente entrando em loops infinitos em grafos com ciclos, a busca por profundidade limitada define um limite para evitar esse problema. Isso torna a busca por profundidade limitada mais segura em termos de evitar loops, mas pode levar à omissão de soluções que estão além do limite definido.\n"
      ],
      "metadata": {
        "id": "ac2vi_Whvvmi"
      }
    },
    {
      "cell_type": "code",
      "source": [
        "def BuscaProfundidadeLimitada(estadoInicial, estadoParada, limite):\n",
        "    def DLS(no, estadoParada, limite):\n",
        "        if VerificaPosicao(no, estadoParada):\n",
        "            return no.caminho\n",
        "        elif limite == 0:\n",
        "            return None\n",
        "\n",
        "        x, y = no.pos\n",
        "        for i, j in [(-1, 0), (1, 0), (0, -1), (0, 1)]:\n",
        "            if i + x < 0 or i + x >= 3 or j + y < 0 or j + y >= 3:\n",
        "                continue\n",
        "            novoEstado = deepcopy(no.estado)\n",
        "            novoEstado.array[x + i][y + j], novoEstado.array[x][y] = novoEstado.array[x][y], novoEstado.array[x + i][y + j]  # troca\n",
        "            novoNo = no.AlcancaNovoEstado(novoEstado)\n",
        "            if novoNo.estado in no.caminho:\n",
        "                continue\n",
        "            resultado = DLS(novoNo, estadoParada, limite - 1)\n",
        "            if resultado is not None:\n",
        "                return resultado\n",
        "        return None\n",
        "\n",
        "    no = No(estadoInicial)\n",
        "    return DLS(no, estadoParada, limite)"
      ],
      "metadata": {
        "id": "MwhfJkBZ5FrP"
      },
      "execution_count": 8,
      "outputs": []
    },
    {
      "cell_type": "markdown",
      "source": [
        "A busca por aprofundamento iterativo é uma técnica de busca que combina a profundidade limitada e a iteração, incrementando gradualmente o limite de profundidade até encontrar a solução.\n",
        "\n",
        "Uma das principais vantagens da busca por aprofundamento iterativo é que ela é completa, sempre encontrando uma solução se uma solução existir. Além disso, ela é ótima, encontrando a solução mais curta em termos de número de movimentos. Outro benefício é o menor consumo de memória em comparação com a busca em largura, pois cada iteração é uma busca em profundidade limitada, que usa menos memória.\n",
        "\n",
        "No entanto, a busca por aprofundamento iterativo tem algumas desvantagens. Pode ser mais lenta do que outras buscas, pois reexplora nós em cada iteração. Isso resulta na repetição de exploração, onde nós são explorados múltiplas vezes, aumentando o tempo total de execução.\n",
        "\n",
        "Em comparação com a busca por profundidade normal e a busca por profundidade limitada, a busca por aprofundamento iterativo tem diferenças significativas. A busca por profundidade normal pode entrar em loops infinitos em grafos com ciclos e não garante encontrar a solução mais curta. A busca por profundidade limitada evita a exploração excessiva de caminhos profundos, mas pode não encontrar uma solução se o limite de profundidade for insuficiente e não garante a solução mais curta.\n",
        "\n",
        "Por outro lado, a busca por aprofundamento iterativo combina o melhor de ambos os métodos. Ela evita os loops infinitos e a limitação de profundidade inadequada ao incrementar gradualmente o limite, garantindo tanto a completude quanto a otimalidade. Embora a reexploração de nós em cada iteração possa aumentar o tempo total de execução, ela assegura que todas as possíveis profundidades sejam exploradas de maneira controlada, encontrando a solução mais eficiente em termos de movimentos."
      ],
      "metadata": {
        "id": "obuaHrs7vuCQ"
      }
    },
    {
      "cell_type": "code",
      "source": [
        "def BuscaAprofundamentoIterativo(estadoInicial, estadoParada):\n",
        "    profundidade = 0\n",
        "    while True:\n",
        "        resultado = BuscaProfundidadeLimitada(estadoInicial, estadoParada, profundidade)\n",
        "        if resultado is not None:\n",
        "            print(\"Solução encontrada com profundidade limite de {}\".format(profundidade))\n",
        "            return resultado\n",
        "        profundidade += 1"
      ],
      "metadata": {
        "id": "OkDhf5Fz5K2_"
      },
      "execution_count": 9,
      "outputs": []
    },
    {
      "cell_type": "code",
      "source": [
        "def AEstrela(estadoInicial, estadoParada, heuristica):\n",
        "    tipoHeuristica = [\"Hamming\", \"Manhattan\"]\n",
        "    if heuristica not in tipoHeuristica:\n",
        "        print(\"Opção inválida\")\n",
        "    elif heuristica == \"Hamming\":\n",
        "        hn = lambda no: sum([sum([1 for i in range(3) for j in range(3) if no.estado.array[i][j] != estadoParada.array[i][j]])])\n",
        "    elif heuristica == \"Manhattan\":\n",
        "        hn = lambda no: sum([sum([abs(i-j) for i, j in zip(*no.estado.array.nonzero())])])\n",
        "\n",
        "\n",
        "\n",
        "    no = No(estadoInicial)\n",
        "    frg = FilaPrioridade()\n",
        "    frg.put(no, 0)\n",
        "    cnt = 0\n",
        "    while True:\n",
        "        cnt += 1\n",
        "\n",
        "        if frg.EspacoVazio():\n",
        "            return False\n",
        "        no = frg.get()\n",
        "        if VerificaPosicao(no, estadoParada):\n",
        "            print(\"Solução encontrada em {} movimentos\".format(len(no.caminho) -1) + \" utilizando heurística de \" + heuristica)\n",
        "            return no.caminho\n",
        "        x, y = no.pos\n",
        "        for i, j in [(-1, 0), (1, 0), (0, -1), (0, 1)]:\n",
        "            if i+x < 0 or i+x >= 3 or j+y < 0 or j+y >= 3:\n",
        "                continue\n",
        "            novoEstado = deepcopy(no.estado)\n",
        "            novoEstado.array[x+i][y+j], novoEstado.array[x][y] = novoEstado.array[x][y], novoEstado.array[x+i][y+j]\n",
        "            novoNo = no.AlcancaNovoEstado(novoEstado)\n",
        "            if novoNo.estado in no.caminho:\n",
        "                continue\n",
        "            frg.put(novoNo, len(novoNo.caminho)-1 + hn(novoNo))"
      ],
      "metadata": {
        "id": "I0Qy9MtM0Tor"
      },
      "execution_count": 23,
      "outputs": []
    },
    {
      "cell_type": "markdown",
      "source": [
        "A busca A* Estrela se destaca como uma técnica de busca por sua capacidade de encontrar o caminho mais curto para o objetivo, desde que a heurística utilizada seja admissível, ou seja, nunca superestime o custo real. Essa propriedade garante que o A* sempre encontre uma solução, se existir, e que essa solução seja a mais eficiente em termos de custo.\n",
        "\n",
        "Além disso, a flexibilidade do A* é notável, já que pode ser adaptado para uma variedade de problemas e heurísticas. Isso significa que ele pode ser aplicado em diversos cenários, desde que uma heurística apropriada seja definida.\n",
        "\n",
        "Por outro lado, a busca A* consome uma quantidade significativa de memória, especialmente para problemas grandes, pois precisa manter todos os caminhos possíveis na memória. Essa característica pode limitar sua aplicabilidade em problemas com restrições severas de memória ou em ambientes com recursos limitados.\n",
        "\n",
        "O desempenho da busca A* também está fortemente ligado à qualidade da heurística utilizada. Heurísticas inadequadas podem levar a um desempenho abaixo do ideal, prejudicando a eficiência da busca.\n",
        "\n",
        "Comparado com outras técnicas de busca, como busca em largura, busca em profundidade, busca por profundidade limitada e busca por aprofundamento iterativo, o A* se destaca por sua abordagem mais direcionada, priorizando nós com menor custo total estimado. Enquanto a busca em largura explora todos os nós em um determinado nível antes de passar para o próximo, o A* avalia os nós com base em uma combinação de custo atual e estimativa do custo futuro.\n",
        "\n",
        "Diferentemente da busca em profundidade, que busca o caminho mais profundo possível antes de retroceder, o A* considera tanto o custo atual quanto uma estimativa do custo futuro para decidir qual nó explorar em seguida. Em contraste com a busca por profundidade limitada, que define um limite fixo para a profundidade de exploração, o A* não possui tal limite, podendo adaptar dinamicamente a profundidade de exploração com base nos custos estimados dos nós. Por fim, em comparação com a busca por aprofundamento iterativo, o A* não requer iterações adicionais para ajustar o limite de profundidade, pois avalia os nós com base na função de custo e na heurística em cada passo da busca."
      ],
      "metadata": {
        "id": "TKgTl9bCwf-f"
      }
    },
    {
      "cell_type": "code",
      "source": [
        "solucao = BuscaAprofundamentoIterativo(posicaoInicial, posicaoFinal)\n",
        "for passo in solucao:\n",
        "    print(passo)"
      ],
      "metadata": {
        "colab": {
          "base_uri": "https://localhost:8080/"
        },
        "id": "jgOpq-T-5eeK",
        "outputId": "caf50a06-7f6d-4e1c-cbe1-1439534a6ac6"
      },
      "execution_count": 11,
      "outputs": [
        {
          "output_type": "stream",
          "name": "stdout",
          "text": [
            "Solução encontrada com profundidade limite de 14\n",
            "[5 2 6]\n",
            "[1 0 3]\n",
            "[4 7 8]\n",
            "\n",
            "[5 2 6]\n",
            "[1 3 0]\n",
            "[4 7 8]\n",
            "\n",
            "[5 2 0]\n",
            "[1 3 6]\n",
            "[4 7 8]\n",
            "\n",
            "[5 0 2]\n",
            "[1 3 6]\n",
            "[4 7 8]\n",
            "\n",
            "[0 5 2]\n",
            "[1 3 6]\n",
            "[4 7 8]\n",
            "\n",
            "[1 5 2]\n",
            "[0 3 6]\n",
            "[4 7 8]\n",
            "\n",
            "[1 5 2]\n",
            "[4 3 6]\n",
            "[0 7 8]\n",
            "\n",
            "[1 5 2]\n",
            "[4 3 6]\n",
            "[7 0 8]\n",
            "\n",
            "[1 5 2]\n",
            "[4 3 6]\n",
            "[7 8 0]\n",
            "\n",
            "[1 5 2]\n",
            "[4 3 0]\n",
            "[7 8 6]\n",
            "\n",
            "[1 5 2]\n",
            "[4 0 3]\n",
            "[7 8 6]\n",
            "\n",
            "[1 0 2]\n",
            "[4 5 3]\n",
            "[7 8 6]\n",
            "\n",
            "[1 2 0]\n",
            "[4 5 3]\n",
            "[7 8 6]\n",
            "\n",
            "[1 2 3]\n",
            "[4 5 0]\n",
            "[7 8 6]\n",
            "\n",
            "[1 2 3]\n",
            "[4 5 6]\n",
            "[7 8 0]\n",
            "\n"
          ]
        }
      ]
    },
    {
      "cell_type": "code",
      "source": [
        "BuscaLargura(posicaoInicial, posicaoFinal)"
      ],
      "metadata": {
        "colab": {
          "base_uri": "https://localhost:8080/"
        },
        "id": "fegWwkMD0JPy",
        "outputId": "2c183f4f-60cb-4a22-dfe6-cc5643701395"
      },
      "execution_count": 22,
      "outputs": [
        {
          "output_type": "stream",
          "name": "stdout",
          "text": [
            "Solução encontrada em 14 movimentos\n"
          ]
        },
        {
          "output_type": "execute_result",
          "data": {
            "text/plain": [
              "[[5 2 6]\n",
              " [1 0 3]\n",
              " [4 7 8],\n",
              " [5 2 6]\n",
              " [1 3 0]\n",
              " [4 7 8],\n",
              " [5 2 0]\n",
              " [1 3 6]\n",
              " [4 7 8],\n",
              " [5 0 2]\n",
              " [1 3 6]\n",
              " [4 7 8],\n",
              " [0 5 2]\n",
              " [1 3 6]\n",
              " [4 7 8],\n",
              " [1 5 2]\n",
              " [0 3 6]\n",
              " [4 7 8],\n",
              " [1 5 2]\n",
              " [4 3 6]\n",
              " [0 7 8],\n",
              " [1 5 2]\n",
              " [4 3 6]\n",
              " [7 0 8],\n",
              " [1 5 2]\n",
              " [4 3 6]\n",
              " [7 8 0],\n",
              " [1 5 2]\n",
              " [4 3 0]\n",
              " [7 8 6],\n",
              " [1 5 2]\n",
              " [4 0 3]\n",
              " [7 8 6],\n",
              " [1 0 2]\n",
              " [4 5 3]\n",
              " [7 8 6],\n",
              " [1 2 0]\n",
              " [4 5 3]\n",
              " [7 8 6],\n",
              " [1 2 3]\n",
              " [4 5 0]\n",
              " [7 8 6],\n",
              " [1 2 3]\n",
              " [4 5 6]\n",
              " [7 8 0]]"
            ]
          },
          "metadata": {},
          "execution_count": 22
        }
      ]
    },
    {
      "cell_type": "markdown",
      "source": [
        "A priori, para a posição inicial que eu tinha definido anteriormente, a busca em profundidade entra em loop, considerando isso, entrei com um outro estado inicial."
      ],
      "metadata": {
        "id": "JbeIqNaB0438"
      }
    },
    {
      "cell_type": "code",
      "source": [
        "#solucaoProfundidade = BuscaProfundidade(posicaoInicial, posicaoFinal)\n",
        "solucaoProfundidade = BuscaProfundidade(Estado([[1, 2, 3], [5, 0, 6], [4, 7, 8]]), posicaoFinal)\n",
        "for passo in solucaoProfundidade:\n",
        "    print(passo)"
      ],
      "metadata": {
        "colab": {
          "base_uri": "https://localhost:8080/"
        },
        "id": "EHlVHSU-0Pff",
        "outputId": "c14c150c-2e9b-4b85-bad3-bbad9197d50e"
      },
      "execution_count": 30,
      "outputs": [
        {
          "output_type": "stream",
          "name": "stdout",
          "text": [
            "Solução encontrada em 27 movimentos\n",
            "[1 2 3]\n",
            "[5 0 6]\n",
            "[4 7 8]\n",
            "\n",
            "[1 2 3]\n",
            "[5 6 0]\n",
            "[4 7 8]\n",
            "\n",
            "[1 2 3]\n",
            "[5 6 8]\n",
            "[4 7 0]\n",
            "\n",
            "[1 2 3]\n",
            "[5 6 8]\n",
            "[4 0 7]\n",
            "\n",
            "[1 2 3]\n",
            "[5 6 8]\n",
            "[0 4 7]\n",
            "\n",
            "[1 2 3]\n",
            "[0 6 8]\n",
            "[5 4 7]\n",
            "\n",
            "[1 2 3]\n",
            "[6 0 8]\n",
            "[5 4 7]\n",
            "\n",
            "[1 2 3]\n",
            "[6 8 0]\n",
            "[5 4 7]\n",
            "\n",
            "[1 2 3]\n",
            "[6 8 7]\n",
            "[5 4 0]\n",
            "\n",
            "[1 2 3]\n",
            "[6 8 7]\n",
            "[5 0 4]\n",
            "\n",
            "[1 2 3]\n",
            "[6 8 7]\n",
            "[0 5 4]\n",
            "\n",
            "[1 2 3]\n",
            "[0 8 7]\n",
            "[6 5 4]\n",
            "\n",
            "[1 2 3]\n",
            "[8 0 7]\n",
            "[6 5 4]\n",
            "\n",
            "[1 2 3]\n",
            "[8 7 0]\n",
            "[6 5 4]\n",
            "\n",
            "[1 2 3]\n",
            "[8 7 4]\n",
            "[6 5 0]\n",
            "\n",
            "[1 2 3]\n",
            "[8 7 4]\n",
            "[6 0 5]\n",
            "\n",
            "[1 2 3]\n",
            "[8 7 4]\n",
            "[0 6 5]\n",
            "\n",
            "[1 2 3]\n",
            "[0 7 4]\n",
            "[8 6 5]\n",
            "\n",
            "[1 2 3]\n",
            "[7 0 4]\n",
            "[8 6 5]\n",
            "\n",
            "[1 2 3]\n",
            "[7 4 0]\n",
            "[8 6 5]\n",
            "\n",
            "[1 2 3]\n",
            "[7 4 5]\n",
            "[8 6 0]\n",
            "\n",
            "[1 2 3]\n",
            "[7 4 5]\n",
            "[8 0 6]\n",
            "\n",
            "[1 2 3]\n",
            "[7 4 5]\n",
            "[0 8 6]\n",
            "\n",
            "[1 2 3]\n",
            "[0 4 5]\n",
            "[7 8 6]\n",
            "\n",
            "[1 2 3]\n",
            "[4 0 5]\n",
            "[7 8 6]\n",
            "\n",
            "[1 2 3]\n",
            "[4 5 0]\n",
            "[7 8 6]\n",
            "\n",
            "[1 2 3]\n",
            "[4 5 6]\n",
            "[7 8 0]\n",
            "\n"
          ]
        }
      ]
    },
    {
      "cell_type": "code",
      "source": [
        "tipoHeuristica = [\"Hamming\", \"Manhattan\"]\n",
        "solucaoHamming = AEstrela(posicaoInicial, posicaoFinal, tipoHeuristica[0])\n",
        "for passo in solucaoHamming:\n",
        "    print(passo)\n",
        "print(\"\\n\" + \"=\"*80 + \"\\n\")\n",
        "solucaoManhattan = AEstrela(posicaoInicial, posicaoFinal, tipoHeuristica[1])\n",
        "for passo in solucaoManhattan:\n",
        "    print(passo)"
      ],
      "metadata": {
        "colab": {
          "base_uri": "https://localhost:8080/"
        },
        "id": "NAd61wn20bOT",
        "outputId": "9481f3ed-d202-41e2-c77b-3a7a8b1054b9"
      },
      "execution_count": 29,
      "outputs": [
        {
          "output_type": "stream",
          "name": "stdout",
          "text": [
            "Solução encontrada em 14 movimentos utilizando heurística de Hamming\n",
            "[5 2 6]\n",
            "[1 0 3]\n",
            "[4 7 8]\n",
            "\n",
            "[5 2 6]\n",
            "[1 3 0]\n",
            "[4 7 8]\n",
            "\n",
            "[5 2 0]\n",
            "[1 3 6]\n",
            "[4 7 8]\n",
            "\n",
            "[5 0 2]\n",
            "[1 3 6]\n",
            "[4 7 8]\n",
            "\n",
            "[0 5 2]\n",
            "[1 3 6]\n",
            "[4 7 8]\n",
            "\n",
            "[1 5 2]\n",
            "[0 3 6]\n",
            "[4 7 8]\n",
            "\n",
            "[1 5 2]\n",
            "[4 3 6]\n",
            "[0 7 8]\n",
            "\n",
            "[1 5 2]\n",
            "[4 3 6]\n",
            "[7 0 8]\n",
            "\n",
            "[1 5 2]\n",
            "[4 3 6]\n",
            "[7 8 0]\n",
            "\n",
            "[1 5 2]\n",
            "[4 3 0]\n",
            "[7 8 6]\n",
            "\n",
            "[1 5 2]\n",
            "[4 0 3]\n",
            "[7 8 6]\n",
            "\n",
            "[1 0 2]\n",
            "[4 5 3]\n",
            "[7 8 6]\n",
            "\n",
            "[1 2 0]\n",
            "[4 5 3]\n",
            "[7 8 6]\n",
            "\n",
            "[1 2 3]\n",
            "[4 5 0]\n",
            "[7 8 6]\n",
            "\n",
            "[1 2 3]\n",
            "[4 5 6]\n",
            "[7 8 0]\n",
            "\n",
            "\n",
            "================================================================================\n",
            "\n",
            "Solução encontrada em 14 movimentos utilizando heurística de Manhattan\n",
            "[5 2 6]\n",
            "[1 0 3]\n",
            "[4 7 8]\n",
            "\n",
            "[5 2 6]\n",
            "[1 3 0]\n",
            "[4 7 8]\n",
            "\n",
            "[5 2 0]\n",
            "[1 3 6]\n",
            "[4 7 8]\n",
            "\n",
            "[5 0 2]\n",
            "[1 3 6]\n",
            "[4 7 8]\n",
            "\n",
            "[0 5 2]\n",
            "[1 3 6]\n",
            "[4 7 8]\n",
            "\n",
            "[1 5 2]\n",
            "[0 3 6]\n",
            "[4 7 8]\n",
            "\n",
            "[1 5 2]\n",
            "[4 3 6]\n",
            "[0 7 8]\n",
            "\n",
            "[1 5 2]\n",
            "[4 3 6]\n",
            "[7 0 8]\n",
            "\n",
            "[1 5 2]\n",
            "[4 3 6]\n",
            "[7 8 0]\n",
            "\n",
            "[1 5 2]\n",
            "[4 3 0]\n",
            "[7 8 6]\n",
            "\n",
            "[1 5 2]\n",
            "[4 0 3]\n",
            "[7 8 6]\n",
            "\n",
            "[1 0 2]\n",
            "[4 5 3]\n",
            "[7 8 6]\n",
            "\n",
            "[1 2 0]\n",
            "[4 5 3]\n",
            "[7 8 6]\n",
            "\n",
            "[1 2 3]\n",
            "[4 5 0]\n",
            "[7 8 6]\n",
            "\n",
            "[1 2 3]\n",
            "[4 5 6]\n",
            "[7 8 0]\n",
            "\n"
          ]
        }
      ]
    }
  ]
}